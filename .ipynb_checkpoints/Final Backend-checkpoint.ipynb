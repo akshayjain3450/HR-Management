{
 "cells": [
  {
   "cell_type": "code",
   "execution_count": 3,
   "metadata": {},
   "outputs": [
    {
     "name": "stdout",
     "output_type": "stream",
     "text": [
      "{'01': ['Ratan Tata', 'CEO', ['NULL'], ['02', '03']], '02': ['Ravi', 'Manager', ['01'], ['04']], '03': ['Cyrus Mistry', 'Manager', ['01'], ['05', '06', '']], '04': ['Kabir', 'Project Coordinator', ['02'], ['07']], '05': ['NULL', 'Project Coordinator', ['03'], ['08', '09']], '06': ['Aditi Sinha', 'Project Coordinator', ['03'], ['10']], '07': ['Prathmesh Tare', 'SDE', ['04'], ['NULL']], '08': ['Yash Kothari', 'SDE', ['05'], ['NULL']], '09': ['Chinmay Garg', 'SDE', ['05'], ['NULL']], '10': ['Parv Dani', 'SDE', ['06'], ['NULL']]}\n"
     ]
    }
   ],
   "source": [
    "# getting details into dictionary\n",
    "import sqlite3\n",
    "conn = sqlite3.connect('present.db')\n",
    "cur = conn.cursor()\n",
    "\n",
    "sqlstr = 'SELECT emp_id, emp_name, emp_position, upper, lower FROM present'\n",
    "details = {}\n",
    "for row in cur.execute(sqlstr):\n",
    "    emp_id = row[0]\n",
    "    emp_name = row[1]\n",
    "    emp_pos = row[2]\n",
    "    if row[3] is not \"NULL\":\n",
    "        upper = row[3].split(\" \")\n",
    "    if row[4] is not \"NULL\":\n",
    "        lower = row[4].split(\" \")\n",
    "    details[emp_id]=[]\n",
    "    details[emp_id].append(emp_name)\n",
    "    details[emp_id].append(emp_pos)\n",
    "    details[emp_id].append(upper)\n",
    "    details[emp_id].append(lower)\n",
    "\n",
    "cur.close()\n",
    "print(details)"
   ]
  },
  {
   "cell_type": "code",
   "execution_count": 2,
   "metadata": {},
   "outputs": [
    {
     "name": "stdout",
     "output_type": "stream",
     "text": [
      "Enter the employee id to be removed :05\n"
     ]
    }
   ],
   "source": [
    "# removing employees\n",
    "def remove_emp(id):\n",
    "    name = details[id][0]\n",
    "    details[id][0] = \"NULL\"\n",
    "    conn = sqlite3.connect('present.db')\n",
    "    cur = conn.cursor()\n",
    "    cur.execute('INSERT INTO past (id,name,position) VALUES (?,?,?)',(id,name,details[id][1],))\n",
    "    #sqlstr = 'UPDATE present SET emp_name = \"NULL\" WHERE emp_id = {}'.format(id)\n",
    "    cur.execute('UPDATE present SET emp_name = \"NULL\" WHERE emp_id = ?',(id,))\n",
    "    conn.commit()\n",
    "    cur.close()\n",
    "rem = input(\"Enter the employee id to be removed :\")\n",
    "remove_emp(rem)"
   ]
  },
  {
   "cell_type": "code",
   "execution_count": 3,
   "metadata": {},
   "outputs": [
    {
     "name": "stdout",
     "output_type": "stream",
     "text": [
      "Enter the employee id to get the immediate senior : 09\n",
      "('03', 2)\n"
     ]
    }
   ],
   "source": [
    "# finding adjacent senior\n",
    "def adj_senior(id):\n",
    "    senior = details[id][2][0]\n",
    "    depth = 1\n",
    "    while True:\n",
    "        if details[senior][0]==\"NULL\":\n",
    "            senior = details[senior][2][0]\n",
    "            depth += 1\n",
    "        else:\n",
    "            return senior,depth\n",
    "        \n",
    "find = input(\"Enter the employee id to get the immediate senior : \")\n",
    "print(adj_senior(find))"
   ]
  },
  {
   "cell_type": "code",
   "execution_count": 19,
   "metadata": {},
   "outputs": [
    {
     "name": "stdout",
     "output_type": "stream",
     "text": [
      "05 Project Coordinator\n",
      "Number of positions empty 1\n"
     ]
    }
   ],
   "source": [
    "# finding the empty positions\n",
    "def find_empty():\n",
    "    count = 0\n",
    "    for i in details:\n",
    "        if details[i][0]==\"NULL\":\n",
    "            count += 1\n",
    "            print(i,details[i][1])\n",
    "    print(\"Number of positions empty\",count)\n",
    "find_empty()"
   ]
  },
  {
   "cell_type": "code",
   "execution_count": 5,
   "metadata": {},
   "outputs": [
    {
     "name": "stdout",
     "output_type": "stream",
     "text": [
      "Enter the employee id where name to be added :05\n",
      "Input name : Himanshu\n"
     ]
    }
   ],
   "source": [
    "# adding new employee\n",
    "def add_emp(id):\n",
    "    if details[id][0] == \"NULL\":\n",
    "        name = input(\"Input name : \")\n",
    "        details[id][0] = name\n",
    "        conn = sqlite3.connect('present.db')\n",
    "        cur = conn.cursor()\n",
    "        cur.execute('UPDATE present SET emp_name = ? WHERE emp_id = ?',(name,id,))\n",
    "        conn.commit()\n",
    "        cur.close()\n",
    "    else:\n",
    "        print(\"Position not empty!\")\n",
    "add = input(\"Enter the employee id where name to be added :\")\n",
    "add_emp(add)"
   ]
  },
  {
   "cell_type": "code",
   "execution_count": 6,
   "metadata": {},
   "outputs": [
    {
     "data": {
      "text/plain": [
       "{'01': ['Ratan Tata', 'CEO', ['NULL'], ['02', '03']],\n",
       " '02': ['Ravi', 'Manager', ['01'], ['04']],\n",
       " '03': ['Aditi', 'Manager', ['01'], ['05', '06', '']],\n",
       " '04': ['Kabir', 'Project Coordinator', ['02'], ['07']],\n",
       " '05': ['Himanshu', 'Project Coordinator', ['03'], ['08', '09']],\n",
       " '06': ['Aditi Sinha', 'Project Coordinator', ['03'], ['10']],\n",
       " '07': ['Prathmesh Tare', 'SDE', ['04'], ['NULL']],\n",
       " '08': ['Yash Kothari', 'SDE', ['05'], ['NULL']],\n",
       " '09': ['Chinmay Garg', 'SDE', ['05'], ['NULL']],\n",
       " '10': ['Parv Dani', 'SDE', ['06'], ['NULL']]}"
      ]
     },
     "execution_count": 6,
     "metadata": {},
     "output_type": "execute_result"
    }
   ],
   "source": [
    "details"
   ]
  },
  {
   "cell_type": "code",
   "execution_count": 2,
   "metadata": {},
   "outputs": [
    {
     "name": "stdout",
     "output_type": "stream",
     "text": [
      "Enter new id : 11\n",
      "Enter name : ad\n",
      "Enter position : f\n",
      "Enter upper id : 05\n",
      "Enter lower id : 08\n",
      "11 \n"
     ]
    }
   ],
   "source": [
    "# add new person in an in-between level\n",
    "def addNew():\n",
    "    \n",
    "    while True:\n",
    "        id = input(\"Enter new id : \")\n",
    "        if id not in details:\n",
    "            break\n",
    "        else:\n",
    "            print(\"This id already exists.\")\n",
    "            \n",
    "    name = input(\"Enter name : \")\n",
    "    pos = input(\"Enter position : \")\n",
    "    upper = input(\"Enter upper id : \")\n",
    "    lower = input(\"Enter lower id : \")\n",
    "    \n",
    "    details[id]=[]\n",
    "    details[id].append(name)\n",
    "    details[id].append(pos)\n",
    "    details[id].append(upper)\n",
    "    details[id].append(lower)\n",
    "        \n",
    "    conn = sqlite3.connect('present.db')\n",
    "    cur = conn.cursor()\n",
    "    cur.execute('INSERT INTO present (emp_id, emp_name, emp_position, upper, lower) VALUES (?,?,?,?,?)',(id,name,pos,upper,lower,))\n",
    "    \n",
    "    # upper list of lower\n",
    "    uLow = details[str(lower)][2]\n",
    "    ul = \"\"   \n",
    "    for x in uLow: \n",
    "        if x == upper:\n",
    "            ul += id\n",
    "        else:\n",
    "            ul += x \n",
    "        ul += ' '\n",
    "    # lower list of upper       \n",
    "    lUp = details[str(upper)][3]\n",
    "    lu = \"\"   \n",
    "    for x in lUp: \n",
    "        if x == lower:\n",
    "            lu += id\n",
    "        else:\n",
    "            lu += x \n",
    "        lu += ' '\n",
    "        \n",
    "    details[lower][2] = ul.split(\" \")\n",
    "    details[upper][3] = lu.split(\" \")\n",
    "    cur.execute('UPDATE present SET upper = ? where emp_id = ?',(ul,lower,))\n",
    "    cur.execute('UPDATE present SET lower = ? where emp_id = ?',(lu,upper,))\n",
    "    print(ul)\n",
    "    conn.commit()\n",
    "    cur.close()\n",
    "    \n",
    "addNew()"
   ]
  },
  {
   "cell_type": "code",
   "execution_count": 15,
   "metadata": {},
   "outputs": [
    {
     "data": {
      "text/plain": [
       "{'01': ['Ratan Tata', 'CEO', ['NULL'], ['02', '03']],\n",
       " '02': ['Ravi', 'Manager', ['01'], ['04']],\n",
       " '03': ['Cyrus Mistry', 'Manager', ['01'], ['05', '06', '']],\n",
       " '04': ['Kabir', 'Project Coordinator', ['02'], ['07']],\n",
       " '05': ['NULL', 'Project Coordinator', ['03'], ['08', '09']],\n",
       " '06': ['Aditi Sinha', 'Project Coordinator', ['03'], ['10']],\n",
       " '07': ['Prathmesh Tare', 'SDE', ['04'], ['NULL']],\n",
       " '08': ['Yash Kothari', 'SDE', ['05'], ['NULL']],\n",
       " '09': ['Chinmay Garg', 'SDE', ['05'], ['NULL']],\n",
       " '10': ['Parv Dani', 'SDE', ['06'], ['NULL']]}"
      ]
     },
     "execution_count": 15,
     "metadata": {},
     "output_type": "execute_result"
    }
   ],
   "source": [
    "details"
   ]
  },
  {
   "cell_type": "code",
   "execution_count": 20,
   "metadata": {},
   "outputs": [
    {
     "name": "stdout",
     "output_type": "stream",
     "text": [
      "Enter id : 10\n",
      "Depth is 3\n"
     ]
    }
   ],
   "source": [
    "# find depth from CEO\n",
    "def depth(id):\n",
    "    count = 0\n",
    "    # details[id][2][0]\n",
    "    while True:\n",
    "        id = details[id][2][0]\n",
    "        if id == 'NULL':\n",
    "            break\n",
    "        if details[id][0] != 'NULL':\n",
    "            count += 1\n",
    "    return count\n",
    "    \n",
    "id = input(\"Enter id : \")\n",
    "print('Depth is',depth(id))    "
   ]
  },
  {
   "cell_type": "code",
   "execution_count": 17,
   "metadata": {},
   "outputs": [
    {
     "data": {
      "text/plain": [
       "{'01': ['Ratan Tata', 'CEO', ['NULL'], ['02', '03']],\n",
       " '02': ['Ravi', 'Manager', ['01'], ['04']],\n",
       " '03': ['Cyrus Mistry', 'Manager', ['01'], ['05', '06', '']],\n",
       " '04': ['Kabir', 'Project Coordinator', ['02'], ['07']],\n",
       " '05': ['NULL', 'Project Coordinator', ['03'], ['08', '09']],\n",
       " '06': ['Aditi Sinha', 'Project Coordinator', ['03'], ['10']],\n",
       " '07': ['Prathmesh Tare', 'SDE', ['04'], ['NULL']],\n",
       " '08': ['Yash Kothari', 'SDE', ['05'], ['NULL']],\n",
       " '09': ['Chinmay Garg', 'SDE', ['05'], ['NULL']],\n",
       " '10': ['Parv Dani', 'SDE', ['06'], ['NULL']]}"
      ]
     },
     "execution_count": 17,
     "metadata": {},
     "output_type": "execute_result"
    }
   ],
   "source": [
    "details"
   ]
  },
  {
   "cell_type": "code",
   "execution_count": 18,
   "metadata": {},
   "outputs": [
    {
     "name": "stdout",
     "output_type": "stream",
     "text": [
      "Input smaller level id : 08\n",
      "Input bigger level id : 03\n",
      "1\n"
     ]
    }
   ],
   "source": [
    "# difference depth\n",
    "def diff(small,big):\n",
    "    b = depth(big)\n",
    "    s = depth(small)\n",
    "    return s-b\n",
    "\n",
    "small = input(\"Input smaller level id : \")\n",
    "big = input(\"Input bigger level id : \")\n",
    "print(diff(small,big))"
   ]
  },
  {
   "cell_type": "code",
   "execution_count": null,
   "metadata": {},
   "outputs": [],
   "source": []
  }
 ],
 "metadata": {
  "kernelspec": {
   "display_name": "Python 3",
   "language": "python",
   "name": "python3"
  },
  "language_info": {
   "codemirror_mode": {
    "name": "ipython",
    "version": 3
   },
   "file_extension": ".py",
   "mimetype": "text/x-python",
   "name": "python",
   "nbconvert_exporter": "python",
   "pygments_lexer": "ipython3",
   "version": "3.6.9"
  }
 },
 "nbformat": 4,
 "nbformat_minor": 2
}
