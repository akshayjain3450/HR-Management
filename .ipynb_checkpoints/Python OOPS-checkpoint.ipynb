{
 "cells": [
  {
   "cell_type": "code",
   "execution_count": 8,
   "metadata": {},
   "outputs": [],
   "source": [
    "#class Employee:\n",
    "#    def __init__(self,name,responsibility, emp_id, upper, lower):\n",
    "#        self.name = name\n",
    "#        self.responsibility = responsibility\n",
    "#        self.id = emp_id\n",
    "#        self.lower = lower\n",
    "#        self.upper = upper"
   ]
  },
  {
   "cell_type": "code",
   "execution_count": 18,
   "metadata": {},
   "outputs": [],
   "source": [
    "#employee = list()\n",
    "#length = int(input(\"Enter the number of employees you want to enter\"))\n",
    "\n",
    "#for i in range(length):\n",
    "#    check = input(\"You want to exit, if yes type 'y'\")\n",
    "#    if check == \"y\":\n",
    "#        break\n",
    "#    else:\n",
    "#        name = input(\"Enter the name\")\n",
    "#        responsibility = input(\"Enter the responsibility\")\n",
    "#        emp_id = input(\"Enter the Employee ID\")\n",
    "#        temp = Employee(name, responsibility, emp_id)\n",
    "#        employee.append(temp)\n",
    "\n",
    "#emp1 = Employee(\"Aditi\", \"CEO\", \"01\")\n",
    "#emp2 = Employee(\"Riya\", \"Manager\", \"02\")\n",
    "#emp3 = Employee(\"Akshay\", \"Manager\", \"03\")\n",
    "#emp4 = Employee(\"Kapil\", \"Project Coordinator\", \"04\")\n",
    "#emp5 = Employee(\"Tarun\", \"Project Coordinator\", \"05\")\n",
    "#emp6 = Employee(\"Dheeraj\", \"Project Coordinator\", \"06\")\n",
    "#emp7 = Employee(\"Somyadeep\", \"SDE\", \"07\")\n",
    "#emp8 = Employee(\"Ankit\", \"SDE\", \"08\")\n",
    "#emp9 = Employee(\"Sujeet\", \"SDE\", \"09\")\n",
    "#emp10 = Employee(\"Supreet\", \"SDE\", \"10\")\n"
   ]
  },
  {
   "cell_type": "code",
   "execution_count": 3,
   "metadata": {},
   "outputs": [
    {
     "name": "stdout",
     "output_type": "stream",
     "text": [
      "{'01': ['Ratan Tata', 'CEO', ['NULL'], ['02', '03']], '02': ['Kartik Goenka', 'Manager', ['01'], ['04']], '03': ['Cyrus Mistry', 'Manager', ['01'], ['05', '06', '']], '04': ['Rishab Jain', 'Project Coordinator', ['02'], ['07']], '05': ['Swapnil Kothari', 'Project Coordinator', ['03'], ['08', '09']], '06': ['Aditi Sinha', 'Project Coordinator', ['03'], ['10']], '07': ['Prathmesh Tare', 'SDE', ['04'], ['NULL']], '08': ['Yash Kothari', 'SDE', ['05'], ['NULL']], '09': ['Chinmay Garg', 'SDE', ['05'], ['NULL']], '10': ['Parv Dani', 'SDE', ['06'], ['NULL']]}\n"
     ]
    }
   ],
   "source": [
    "import sqlite3\n",
    "conn = sqlite3.connect('present.db')\n",
    "cur = conn.cursor()\n",
    "\n",
    "sqlstr = 'SELECT emp_id, emp_name, emp_position, upper, lower FROM present'\n",
    "details = {}\n",
    "for row in cur.execute(sqlstr):\n",
    "    emp_id = row[0]\n",
    "    emp_name = row[1]\n",
    "    emp_pos = row[2]\n",
    "    if row[3] is not \"NULL\":\n",
    "        upper = row[3].split(\" \")\n",
    "    if row[4] is not \"NULL\":\n",
    "        lower = row[4].split(\" \")\n",
    "    details[emp_id]=[]\n",
    "    details[emp_id].append(emp_name)\n",
    "    details[emp_id].append(emp_pos)\n",
    "    details[emp_id].append(upper)\n",
    "    details[emp_id].append(lower)\n",
    "\n",
    "cur.close()\n",
    "print(details)"
   ]
  },
  {
   "cell_type": "code",
   "execution_count": 4,
   "metadata": {},
   "outputs": [],
   "source": [
    "#def print_details():\n",
    "    "
   ]
  },
  {
   "cell_type": "code",
   "execution_count": 5,
   "metadata": {},
   "outputs": [
    {
     "name": "stdout",
     "output_type": "stream",
     "text": [
      "Enter the employee id to be removed :02\n"
     ]
    }
   ],
   "source": [
    "def remove_emp(id):\n",
    "    name = details[id][0]\n",
    "    details[id][0] = \"NULL\"\n",
    "    conn = sqlite3.connect('present.db')\n",
    "    cur = conn.cursor()\n",
    "    cur.execute('INSERT INTO past (id,name,position) VALUES (?,?,?)',(id,name,details[id][1],))\n",
    "    #sqlstr = 'UPDATE present SET emp_name = \"NULL\" WHERE emp_id = {}'.format(id)\n",
    "    cur.execute('UPDATE present SET emp_name = \"NULL\" WHERE emp_id = ?',(id,))\n",
    "    conn.commit()\n",
    "    cur.close()\n",
    "rem = input(\"Enter the employee id to be removed :\")\n",
    "remove_emp(rem)"
   ]
  },
  {
   "cell_type": "code",
   "execution_count": 22,
   "metadata": {},
   "outputs": [
    {
     "data": {
      "text/plain": [
       "['NULL', 'CEO', ['NULL'], ['02', '03']]"
      ]
     },
     "execution_count": 22,
     "metadata": {},
     "output_type": "execute_result"
    }
   ],
   "source": [
    "details['01']"
   ]
  },
  {
   "cell_type": "code",
   "execution_count": 31,
   "metadata": {},
   "outputs": [
    {
     "name": "stdout",
     "output_type": "stream",
     "text": [
      "A CEO 01\n",
      "B Manager 02\n"
     ]
    }
   ],
   "source": [
    "\n",
    "for i in range(length):\n",
    "    print(employee[i].name,employee[i].responsibility,employee[i].id)"
   ]
  },
  {
   "cell_type": "code",
   "execution_count": 11,
   "metadata": {},
   "outputs": [
    {
     "name": "stdout",
     "output_type": "stream",
     "text": [
      "Enter the employee id to get the immediate senior : 04\n",
      "('01', 2)\n"
     ]
    }
   ],
   "source": [
    "def adj_senior(id):\n",
    "    senior = details[id][2][0]\n",
    "    depth = 1\n",
    "    while True:\n",
    "        if details[senior][0]==\"NULL\":\n",
    "            senior = details[senior][2][0]\n",
    "            depth += 1\n",
    "        else:\n",
    "            return senior,depth\n",
    "        \n",
    "find = input(\"Enter the employee id to get the immediate senior : \")\n",
    "print(adj_senior(find))"
   ]
  },
  {
   "cell_type": "code",
   "execution_count": 20,
   "metadata": {},
   "outputs": [
    {
     "name": "stdout",
     "output_type": "stream",
     "text": [
      "02 Manager\n",
      "Number of positions empty 1\n"
     ]
    }
   ],
   "source": [
    "def find_empty():\n",
    "    count = 0\n",
    "    for i in details:\n",
    "        if details[i][0]==\"NULL\":\n",
    "            count += 1\n",
    "            print(i,details[i][1])\n",
    "    print(\"Number of positions empty\",count)\n",
    "find_empty()    "
   ]
  },
  {
   "cell_type": "code",
   "execution_count": 22,
   "metadata": {},
   "outputs": [
    {
     "name": "stdout",
     "output_type": "stream",
     "text": [
      "Enter the employee id where name to be added :02\n",
      "Input name : Aditi\n"
     ]
    }
   ],
   "source": [
    "def add_emp(id):\n",
    "    if details[id][0] == \"NULL\":\n",
    "        name = input(\"Input name : \")\n",
    "        conn = sqlite3.connect('present.db')\n",
    "        cur = conn.cursor()\n",
    "        cur.execute('UPDATE present SET emp_name = ? WHERE emp_id = ?',(name,id,))\n",
    "        conn.commit()\n",
    "        cur.close()\n",
    "    else:\n",
    "        print(\"Position not empty!\")\n",
    "add = input(\"Enter the employee id where name to be added :\")\n",
    "add_emp(add)"
   ]
  },
  {
   "cell_type": "code",
   "execution_count": 12,
   "metadata": {},
   "outputs": [
    {
     "data": {
      "text/plain": [
       "{'01': ['Ratan Tata', 'CEO', ['NULL'], ['02', '03']],\n",
       " '02': ['NULL', 'Manager', ['01'], ['04']],\n",
       " '03': ['Cyrus Mistry', 'Manager', ['01'], ['05', '06', '']],\n",
       " '04': ['Rishab Jain', 'Project Coordinator', ['02'], ['07']],\n",
       " '05': ['Swapnil Kothari', 'Project Coordinator', ['03'], ['08', '09']],\n",
       " '06': ['Aditi Sinha', 'Project Coordinator', ['03'], ['10']],\n",
       " '07': ['Prathmesh Tare', 'SDE', ['04'], ['NULL']],\n",
       " '08': ['Yash Kothari', 'SDE', ['05'], ['NULL']],\n",
       " '09': ['Chinmay Garg', 'SDE', ['05'], ['NULL']],\n",
       " '10': ['Parv Dani', 'SDE', ['06'], ['NULL']]}"
      ]
     },
     "execution_count": 12,
     "metadata": {},
     "output_type": "execute_result"
    }
   ],
   "source": [
    "details"
   ]
  },
  {
   "cell_type": "code",
   "execution_count": null,
   "metadata": {},
   "outputs": [],
   "source": [
    "LEVEL_1 = {emp1.id : [[],[emp2.id,emp3.id]]}\n",
    "LEVEL_2 = {emp2.id: [[emp1.id],[emp4.id]], emp3.id: [[emp1.id],[emp5.id,emp6.id]]}\n",
    "LEVEL_3 = {emp4.id: [[emp2.id],[emp7.id]], emp5.id: [[emp3.id],[emp8.id]], emp6.id: [[emp3.id],[emp9.id,emp10.id]]}\n",
    "LEVEL_4 = {emp7.id: [[emp4.id],[]], emp8.id: [[emp5.id],[]], emp9.id: [[emp6.id],[]], emp10.id: [[emp6.id],[]]}"
   ]
  },
  {
   "cell_type": "code",
   "execution_count": null,
   "metadata": {},
   "outputs": [],
   "source": [
    "LEVEL_1\n",
    "LEVEL_2[\"03\"]"
   ]
  },
  {
   "cell_type": "code",
   "execution_count": null,
   "metadata": {},
   "outputs": [],
   "source": []
  }
 ],
 "metadata": {
  "kernelspec": {
   "display_name": "Python 3",
   "language": "python",
   "name": "python3"
  },
  "language_info": {
   "codemirror_mode": {
    "name": "ipython",
    "version": 3
   },
   "file_extension": ".py",
   "mimetype": "text/x-python",
   "name": "python",
   "nbconvert_exporter": "python",
   "pygments_lexer": "ipython3",
   "version": "3.6.9"
  }
 },
 "nbformat": 4,
 "nbformat_minor": 2
}
